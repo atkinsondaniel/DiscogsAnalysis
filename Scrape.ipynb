{
 "cells": [
  {
   "cell_type": "code",
   "execution_count": 27,
   "metadata": {},
   "outputs": [],
   "source": [
    "import pandas as pd\n",
    "import seaborn as sns\n",
    "from sqlalchemy import create_engine\n",
    "import sqlite3\n",
    "from config import API_KEY\n",
    "import requests\n",
    "import re"
   ]
  },
  {
   "cell_type": "code",
   "execution_count": 2,
   "metadata": {},
   "outputs": [],
   "source": [
    "conn = sqlite3.connect('discogs.db')\n",
    "c = conn.cursor()"
   ]
  },
  {
   "cell_type": "code",
   "execution_count": null,
   "metadata": {},
   "outputs": [],
   "source": [
    "sql = '''\n",
    "    SELECT a.artist, m.artist_id, COUNT(m.artist_id) AS c, MIN(m.year)\n",
    "    FROM MASTERS AS m\n",
    "    JOIN ARTISTS AS a\n",
    "    ON m.artist_id = a.artist_id\n",
    "    WHERE genre='Hip Hop'\n",
    "    GROUP BY m.artist_id\n",
    "    HAVING c > 10\n",
    "    ORDER BY COUNT(m.artist_id) DESC    \n",
    "    LIMIT 10\n",
    "\n",
    "'''"
   ]
  },
  {
   "cell_type": "code",
   "execution_count": 20,
   "metadata": {},
   "outputs": [
    {
     "name": "stdout",
     "output_type": "stream",
     "text": [
      "('Swimming Pools (Drank)', 3774201)\n",
      "('The Recipe', 3781836)\n",
      "('Good Kid, M.A.A.d City', 3975953)\n",
      "('Section 80', 3369042)\n",
      "('Kendrick Lamar EP', 5263469)\n",
      "('Poetic Justice', 10361312)\n",
      "('Overly Dedicated', 4422316)\n",
      "('To Pimp A Butterfly', 7557957)\n",
      "('I', 6126852)\n",
      "('King Kunta', 7940122)\n",
      "('Untitled Unmastered.', 8238156)\n",
      "(\"Don't Kill My Vibe\", 7648026)\n",
      "('Damn.', 10559651)\n",
      "('The Blacker The Berry', 10361470)\n",
      "('Humble', 10361403)\n"
     ]
    }
   ],
   "source": [
    "sql = '''\n",
    "    SELECT m.title, m.main_release\n",
    "    FROM MASTERS AS m\n",
    "    JOIN ARTISTS AS a\n",
    "    ON m.artist_id = a.artist_id\n",
    "    WHERE genre='Hip Hop'\n",
    "    AND artist='Kendrick Lamar'\n",
    "'''\n",
    "\n",
    "c.execute(sql)\n",
    "\n",
    "rows = c.fetchall()\n",
    "\n",
    "for row in rows:\n",
    "    print(row)"
   ]
  },
  {
   "cell_type": "code",
   "execution_count": 100,
   "metadata": {},
   "outputs": [],
   "source": [
    "test = getHave(3781836)\n"
   ]
  },
  {
   "cell_type": "code",
   "execution_count": 136,
   "metadata": {},
   "outputs": [],
   "source": [
    "headers = {'user-agent' : 'DataAnalysisProj atkinsondaniel123@gmail.com',\n",
    "          'Authorization' : f'Discogs token={API_KEY}'}\n",
    "def getHave(main_id):\n",
    "    url = f'https://api.discogs.com/releases/{main_id}'\n",
    "    response = requests.get(url, headers=headers)\n",
    "    have = re.search('have\": (\\d+)',str(response.text)).group(1)\n",
    "    return have"
   ]
  },
  {
   "cell_type": "code",
   "execution_count": 137,
   "metadata": {},
   "outputs": [],
   "source": [
    "have_list = []\n",
    "for row in rows[:10]:\n",
    "    row = list(row)\n",
    "    row.append(getHave(row[1]))\n",
    "    have_list.append(row)"
   ]
  },
  {
   "cell_type": "code",
   "execution_count": 109,
   "metadata": {},
   "outputs": [
    {
     "data": {
      "text/plain": [
       "[('Swimming Pools (Drank)', 3774201),\n",
       " ('The Recipe', 3781836),\n",
       " ('Good Kid, M.A.A.d City', 3975953),\n",
       " ('Section 80', 3369042),\n",
       " ('Kendrick Lamar EP', 5263469),\n",
       " ('Poetic Justice', 10361312),\n",
       " ('Overly Dedicated', 4422316),\n",
       " ('To Pimp A Butterfly', 7557957),\n",
       " ('I', 6126852),\n",
       " ('King Kunta', 7940122),\n",
       " ('Untitled Unmastered.', 8238156),\n",
       " (\"Don't Kill My Vibe\", 7648026),\n",
       " ('Damn.', 10559651),\n",
       " ('The Blacker The Berry', 10361470),\n",
       " ('Humble', 10361403)]"
      ]
     },
     "execution_count": 109,
     "metadata": {},
     "output_type": "execute_result"
    }
   ],
   "source": [
    "rows"
   ]
  },
  {
   "cell_type": "code",
   "execution_count": 138,
   "metadata": {},
   "outputs": [],
   "source": [
    "url = f'https://api.discogs.com/releases/3774201'\n",
    "response = requests.get(url, headers=headers)\n",
    "have = re.search('have\": (\\d+)',str(response.text)).group(1)"
   ]
  },
  {
   "cell_type": "code",
   "execution_count": 112,
   "metadata": {},
   "outputs": [
    {
     "data": {
      "text/plain": [
       "'7'"
      ]
     },
     "execution_count": 112,
     "metadata": {},
     "output_type": "execute_result"
    }
   ],
   "source": [
    "have"
   ]
  },
  {
   "cell_type": "code",
   "execution_count": 131,
   "metadata": {},
   "outputs": [
    {
     "data": {
      "text/plain": [
       "[['Swimming Pools (Drank)', 3774201, '7'],\n",
       " ['The Recipe', 3781836, '8'],\n",
       " ['Good Kid, M.A.A.d City', 3975953, '34111'],\n",
       " ['Section 80', 3369042, '195'],\n",
       " ['Kendrick Lamar EP', 5263469, '28'],\n",
       " ['Poetic Justice', 10361312, '4'],\n",
       " ['Overly Dedicated', 4422316, '91'],\n",
       " ['To Pimp A Butterfly', 7557957, '13533'],\n",
       " ['I', 6126852, '18'],\n",
       " ['King Kunta', 7940122, '2']]"
      ]
     },
     "execution_count": 131,
     "metadata": {},
     "output_type": "execute_result"
    }
   ],
   "source": [
    "have_list"
   ]
  },
  {
   "cell_type": "code",
   "execution_count": 139,
   "metadata": {},
   "outputs": [
    {
     "data": {
      "text/plain": [
       "{'Date': 'Sun, 20 Jun 2021 02:26:17 GMT', 'Content-Type': 'application/json', 'Transfer-Encoding': 'chunked', 'Connection': 'keep-alive', 'Vary': 'Accept-Encoding', 'X-Discogs-Ratelimit': '60', 'X-Discogs-Ratelimit-Remaining': '50', 'X-Discogs-Ratelimit-Used': '10', 'Access-Control-Allow-Headers': 'Content-Type, authorization, User-Agent, Private-Auth-Secret, Discogs-UID', 'Access-Control-Allow-Methods': 'HEAD,OPTIONS,GET,OPTIONS', 'Access-Control-Expose-Headers': 'Location', 'Content-Language': 'en', 'X-Discogs-Media-Type': 'discogs.v2', 'Access-Control-Allow-Origin': '*', 'X-Frame-Options': 'SAMEORIGIN', 'X-XSS-Protection': '1; mode=block', 'X-Content-Type-Options': 'nosniff', 'Cache-Control': 'public, must-revalidate', 'Content-Encoding': 'gzip', 'Strict-Transport-Security': 'max-age=15724800'}"
      ]
     },
     "execution_count": 139,
     "metadata": {},
     "output_type": "execute_result"
    }
   ],
   "source": [
    "response.headers"
   ]
  },
  {
   "cell_type": "code",
   "execution_count": null,
   "metadata": {},
   "outputs": [],
   "source": []
  }
 ],
 "metadata": {
  "kernelspec": {
   "display_name": "Python 3",
   "language": "python",
   "name": "python3"
  },
  "language_info": {
   "codemirror_mode": {
    "name": "ipython",
    "version": 3
   },
   "file_extension": ".py",
   "mimetype": "text/x-python",
   "name": "python",
   "nbconvert_exporter": "python",
   "pygments_lexer": "ipython3",
   "version": "3.7.3"
  }
 },
 "nbformat": 4,
 "nbformat_minor": 4
}
