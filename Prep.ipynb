{
 "cells": [
  {
   "cell_type": "code",
   "execution_count": 2,
   "metadata": {},
   "outputs": [],
   "source": [
    "import pandas as pd\n",
    "import sqlite3"
   ]
  },
  {
   "cell_type": "code",
   "execution_count": 3,
   "metadata": {},
   "outputs": [],
   "source": [
    "with open('discogs_20201201_artists.xml', 'r', encoding='utf-8') as xml_file:\n",
    "    xml_tree = etree.parse(xml_file)\n",
    "artists = {}\n",
    "for i, artist in enumerate(xml_tree.xpath('/artists/artist')):\n",
    "    artists[artist.find(\"id\").text] = artist.find(\"name\").text"
   ]
  },
  {
   "cell_type": "code",
   "execution_count": 4,
   "metadata": {},
   "outputs": [],
   "source": [
    "artist_df = pd.DataFrame.from_dict(artists, orient='index', columns=[\"artist\"])\n",
    "artist_df.reset_index(inplace=True)\n",
    "artist_df = artist_df.rename(columns={\"index\": \"artist_id\"})"
   ]
  },
  {
   "cell_type": "code",
   "execution_count": 2,
   "metadata": {},
   "outputs": [],
   "source": [
    "conn = sqlite3.connect('discogs.db')\n",
    "c = conn.cursor()"
   ]
  },
  {
   "cell_type": "code",
   "execution_count": null,
   "metadata": {},
   "outputs": [],
   "source": [
    "c.execute('CREATE TABLE ARTISTS (arist_id number, artist text)')\n",
    "conn.commit()\n",
    "artist_df.to_sql('ARTISTS', conn, if_exists='replace', index = False)"
   ]
  },
  {
   "cell_type": "code",
   "execution_count": 6,
   "metadata": {},
   "outputs": [
    {
     "name": "stdout",
     "output_type": "stream",
     "text": [
      "Opening\n",
      "Open\n"
     ]
    }
   ],
   "source": [
    "from lxml import etree\n",
    "with open('discogs_20201201_masters.xml', 'r', encoding='utf-8') as xml_file:\n",
    "    print(\"Opening\")\n",
    "    xml_tree = etree.parse(xml_file)\n",
    "    print(\"Open\")"
   ]
  },
  {
   "cell_type": "code",
   "execution_count": 7,
   "metadata": {},
   "outputs": [],
   "source": [
    "xml_file.close()"
   ]
  },
  {
   "cell_type": "code",
   "execution_count": 4,
   "metadata": {},
   "outputs": [
    {
     "data": {
      "text/plain": [
       "<sqlite3.Cursor at 0x20b97d8a030>"
      ]
     },
     "execution_count": 4,
     "metadata": {},
     "output_type": "execute_result"
    }
   ],
   "source": [
    "c.execute('CREATE TABLE MASTERS (main_release number, artist_id number, genre text, year number, title text)')"
   ]
  },
  {
   "cell_type": "code",
   "execution_count": 5,
   "metadata": {},
   "outputs": [],
   "source": [
    "def create_master(conn, m):\n",
    "    sql = ''' INSERT INTO MASTERS(main_release, artist_id, genre, year, title)\n",
    "              VALUES(?,?,?,?,?) '''\n",
    "    cur = conn.cursor()\n",
    "    cur.executemany(sql, m)\n",
    "    conn.commit()"
   ]
  },
  {
   "cell_type": "code",
   "execution_count": null,
   "metadata": {},
   "outputs": [],
   "source": [
    "masters = []\n",
    "for i, master in enumerate(xml_tree.xpath('/masters/master')):\n",
    "    try:\n",
    "        print(i)\n",
    "        main = master.find(\"main_release\").text if master.find(\"main_release\").text else '.'\n",
    "        artist_id = master.find(\"artists/artist/id\").text if master.find(\"artists/artist/id\").text else '.'\n",
    "        genre = master.find(\"genres/genre\").text if master.find(\"genres/genre\").text else '.'\n",
    "        year = master.find(\"year\").text if master.find(\"year\").text else '.'\n",
    "        title = master.find(\"title\").text if master.find(\"title\").text else '.'\n",
    "        m = (main,artist_id,genre,year,title)\n",
    "        masters.append(m)\n",
    "        if i % 100000 == 0:\n",
    "            create_master(conn,masters)\n",
    "            masters = []\n",
    "            print(\"wrote to db\")\n",
    "    except: \n",
    "        pass"
   ]
  },
  {
   "cell_type": "code",
   "execution_count": 3,
   "metadata": {},
   "outputs": [],
   "source": [
    "conn = sqlite3.connect('discogs.db')\n",
    "c = conn.cursor()"
   ]
  },
  {
   "cell_type": "code",
   "execution_count": 10,
   "metadata": {},
   "outputs": [
    {
     "name": "stdout",
     "output_type": "stream",
     "text": [
      "(194, 3879)\n",
      "(132084, 113)\n",
      "(38661, 111)\n",
      "(21742, 103)\n",
      "(100752, 99)\n"
     ]
    }
   ],
   "source": [
    "c.execute('SELECT ARTIST_ID, COUNT(ARTIST_ID) FROM MASTERS WHERE GENRE=\"Hip Hop\" GROUP BY ARTIST_ID ORDER BY COUNT(ARTIST_ID) DESC LIMIT 5')\n",
    "\n",
    "rows = c.fetchall()\n",
    "\n",
    "for row in rows:\n",
    "    print(row)"
   ]
  },
  {
   "cell_type": "markdown",
   "metadata": {},
   "source": [
    "it works bless up"
   ]
  }
 ],
 "metadata": {
  "kernelspec": {
   "display_name": "Python 3",
   "language": "python",
   "name": "python3"
  },
  "language_info": {
   "codemirror_mode": {
    "name": "ipython",
    "version": 3
   },
   "file_extension": ".py",
   "mimetype": "text/x-python",
   "name": "python",
   "nbconvert_exporter": "python",
   "pygments_lexer": "ipython3",
   "version": "3.7.3"
  }
 },
 "nbformat": 4,
 "nbformat_minor": 4
}
